{
  "nbformat": 4,
  "nbformat_minor": 0,
  "metadata": {
    "colab": {
      "provenance": [],
      "mount_file_id": "1ppDpP2fDpu66NWqjCUtC4Q7sOamPO2hK",
      "authorship_tag": "ABX9TyO7SIcvQdgGSmh6uFE9htTO",
      "include_colab_link": true
    },
    "kernelspec": {
      "name": "python3",
      "display_name": "Python 3"
    },
    "language_info": {
      "name": "python"
    }
  },
  "cells": [
    {
      "cell_type": "markdown",
      "metadata": {
        "id": "view-in-github",
        "colab_type": "text"
      },
      "source": [
        "<a href=\"https://colab.research.google.com/github/saibhoknal/internship/blob/main/Task_2/Copy_of_Bar_chart_.ipynb\" target=\"_parent\"><img src=\"https://colab.research.google.com/assets/colab-badge.svg\" alt=\"Open In Colab\"/></a>"
      ]
    },
    {
      "cell_type": "code",
      "source": [
        "#bar chart using dataset candy\n",
        "import pandas as pd\n",
        "import matplotlib.pyplot as plt\n",
        "df=pd.read_csv(\"/content/drive/MyDrive/Datasets/Dataset/candy.csv\")\n",
        "x=df['competitorname']\n",
        "y=df['caramel']\n",
        "z=plt.bar(x,y)\n",
        "plt.show()\n",
        "     \n"
      ],
      "metadata": {
        "colab": {
          "base_uri": "https://localhost:8080/",
          "height": 265
        },
        "id": "OZUfZlq2fk_0",
        "outputId": "ba15ceae-94b8-4533-f591-d9eacd22166a"
      },
      "execution_count": null,
      "outputs": [
        {
          "output_type": "display_data",
          "data": {
            "text/plain": [
              "<Figure size 432x288 with 1 Axes>"
            ],
            "image/png": "[encoded data removed]"
          },
          "metadata": {
            "needs_background": "light"
          }
        }
      ]
    },
    {
      "cell_type": "code",
      "source": [
        "#barchart using dataset ign_scores\n",
        "import pandas as pd\n",
        "import matplotlib.pyplot as plt\n",
        "df=pd.read_csv(\"/content/drive/MyDrive/Datasets/Dataset/ign_scores.csv\")\n",
        "x=df['Platform']\n",
        "y=df['Action']\n",
        "z=plt.bar(x,y,color='green')\n",
        "plt.show()"
      ],
      "metadata": {
        "colab": {
          "base_uri": "https://localhost:8080/",
          "height": 267
        },
        "id": "SgegokjYgCNN",
        "outputId": "2e651f80-ed0c-4ba4-aafc-4f1b000ad935"
      },
      "execution_count": null,
      "outputs": [
        {
          "output_type": "display_data",
          "data": {
            "text/plain": [
              "<Figure size 432x288 with 1 Axes>"
            ],
            "image/png": "[encoded data removed]"
          },
          "metadata": {
            "needs_background": "light"
          }
        }
      ]
    },
    {
      "cell_type": "code",
      "source": [
        "#barchart using dataset insurance\n",
        "import pandas as pd\n",
        "import matplotlib.pyplot as plt\n",
        "mk=pd.read_csv(\"/content/drive/MyDrive/Datasets/Dataset/insurance.csv\")\n",
        "x=mk['age']\n",
        "y=mk['sex']\n",
        "mkp=plt.bar(x,y,color='black')"
      ],
      "metadata": {
        "colab": {
          "base_uri": "https://localhost:8080/",
          "height": 265
        },
        "id": "rBQOBWzFgwxz",
        "outputId": "45ccf0f7-7052-4b5b-f920-0be2f21f2c43"
      },
      "execution_count": null,
      "outputs": [
        {
          "output_type": "display_data",
          "data": {
            "text/plain": [
              "<Figure size 432x288 with 1 Axes>"
            ],
            "image/png": "[encoded data removed]"
          },
          "metadata": {
            "needs_background": "light"
          }
        }
      ]
    }
  ]
}