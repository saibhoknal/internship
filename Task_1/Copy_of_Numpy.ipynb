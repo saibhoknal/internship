{
  "nbformat": 4,
  "nbformat_minor": 0,
  "metadata": {
    "colab": {
      "provenance": [],
      "authorship_tag": "ABX9TyOZM/wloOrqNxq9d4pirG/A",
      "include_colab_link": true
    },
    "kernelspec": {
      "name": "python3",
      "display_name": "Python 3"
    },
    "language_info": {
      "name": "python"
    }
  },
  "cells": [
    {
      "cell_type": "markdown",
      "metadata": {
        "id": "view-in-github",
        "colab_type": "text"
      },
      "source": [
        "<a href=\"https://colab.research.google.com/github/saibhoknal/internship/blob/main/Task_1/Copy_of_Numpy.ipynb\" target=\"_parent\"><img src=\"https://colab.research.google.com/assets/colab-badge.svg\" alt=\"Open In Colab\"/></a>"
      ]
    },
    {
      "cell_type": "code",
      "execution_count": null,
      "metadata": {
        "colab": {
          "base_uri": "https://localhost:8080/"
        },
        "id": "eCWIcQd3PyJM",
        "outputId": "c785b655-619f-4c13-ba1f-2ff54f311238"
      },
      "outputs": [
        {
          "output_type": "stream",
          "name": "stdout",
          "text": [
            "[[7 8 9]\n",
            " [5 6 7]]\n"
          ]
        }
      ],
      "source": [
        "#using numpy sample program no 1\n",
        "#program for print two dimensional array\n",
        "import numpy as np\n",
        "a= np.array([[7,8,9],[5,6,7]])\n",
        "print(a)"
      ]
    },
    {
      "cell_type": "code",
      "source": [
        "#using numpy sample program no 2\n",
        "#program for adding two dimensional array\n",
        "import numpy as np\n",
        "a=np.array([[1,2,3],\n",
        "            [4,5,6]])\n",
        "b=np.array([[5,8,7],\n",
        "            [9,3,5]])\n",
        "c=a+b\n",
        "print(c)"
      ],
      "metadata": {
        "colab": {
          "base_uri": "https://localhost:8080/"
        },
        "id": "lG-Wd33uQ6M5",
        "outputId": "ff71653e-3602-46aa-fdd9-58471871a35d"
      },
      "execution_count": null,
      "outputs": [
        {
          "output_type": "stream",
          "name": "stdout",
          "text": [
            "[[ 6 10 10]\n",
            " [13  8 11]]\n"
          ]
        }
      ]
    },
    {
      "cell_type": "code",
      "source": [
        "#using numpy smaple program no 3\n",
        "# program for arange numbers using numpy arange function \n",
        "import numpy as np\n",
        "a=np.arange(4)\n",
        "print(a)\n"
      ],
      "metadata": {
        "colab": {
          "base_uri": "https://localhost:8080/"
        },
        "id": "r0Mgv1VhRDbO",
        "outputId": "9d0c4647-ecc7-4f20-bb04-5a214f52690a"
      },
      "execution_count": null,
      "outputs": [
        {
          "output_type": "stream",
          "name": "stdout",
          "text": [
            "[0 1 2 3]\n"
          ]
        }
      ]
    },
    {
      "cell_type": "code",
      "source": [
        "#program for to create an array of the number 1 to 50\n",
        "import numpy as np\n",
        "arr=np.arange(1,51)\n",
        "print(arr)\n"
      ],
      "metadata": {
        "colab": {
          "base_uri": "https://localhost:8080/"
        },
        "id": "_fa4l2SORMa4",
        "outputId": "720c5ef8-9cd2-47a3-f92d-8ccb2081f7f4"
      },
      "execution_count": null,
      "outputs": [
        {
          "output_type": "stream",
          "name": "stdout",
          "text": [
            "[ 1  2  3  4  5  6  7  8  9 10 11 12 13 14 15 16 17 18 19 20 21 22 23 24\n",
            " 25 26 27 28 29 30 31 32 33 34 35 36 37 38 39 40 41 42 43 44 45 46 47 48\n",
            " 49 50]\n"
          ]
        }
      ]
    }
  ]
}