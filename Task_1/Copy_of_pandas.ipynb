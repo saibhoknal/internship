{
  "nbformat": 4,
  "nbformat_minor": 0,
  "metadata": {
    "colab": {
      "provenance": [],
      "authorship_tag": "ABX9TyMqwY0zujhFNImonyVbRV18",
      "include_colab_link": true
    },
    "kernelspec": {
      "name": "python3",
      "display_name": "Python 3"
    },
    "language_info": {
      "name": "python"
    }
  },
  "cells": [
    {
      "cell_type": "markdown",
      "metadata": {
        "id": "view-in-github",
        "colab_type": "text"
      },
      "source": [
        "<a href=\"https://colab.research.google.com/github/saibhoknal/internship/blob/main/Task_1/Copy_of_pandas.ipynb\" target=\"_parent\"><img src=\"https://colab.research.google.com/assets/colab-badge.svg\" alt=\"Open In Colab\"/></a>"
      ]
    },
    {
      "cell_type": "code",
      "execution_count": null,
      "metadata": {
        "colab": {
          "base_uri": "https://localhost:8080/"
        },
        "id": "-_qE8qquSvW-",
        "outputId": "5359efd0-fc85-4edb-db40-fc6eec27f446"
      },
      "outputs": [
        {
          "output_type": "stream",
          "name": "stdout",
          "text": [
            "0    1\n",
            "1    2\n",
            "2    3\n",
            "3    4\n",
            "4    5\n",
            "dtype: int64\n"
          ]
        }
      ],
      "source": [
        "# program to create one dimensional array using pandas module\n",
        "import pandas as pd\n",
        "ds = pd.Series([1,2,3,4,5])\n",
        "print(ds)"
      ]
    },
    {
      "cell_type": "code",
      "source": [
        "# program for print array values elements wise\n",
        "import pandas as pd\n",
        "dics=pd.DataFrame({'A':[3,5,2,6],'B':[7,3,8,4],'C':[3,6,7,2]})\n",
        "print(dics)\n"
      ],
      "metadata": {
        "colab": {
          "base_uri": "https://localhost:8080/"
        },
        "id": "_O0kGesETYK_",
        "outputId": "dc6a22a5-dea2-44c9-81be-93c32a171c62"
      },
      "execution_count": null,
      "outputs": [
        {
          "output_type": "stream",
          "name": "stdout",
          "text": [
            "   A  B  C\n",
            "0  3  7  3\n",
            "1  5  3  6\n",
            "2  2  8  7\n",
            "3  6  4  2\n"
          ]
        }
      ]
    },
    {
      "cell_type": "code",
      "source": [
        "#program for adding two pandas series\n",
        "import pandas as pd\n",
        "num1=pd.Series ([3,4,5,6])\n",
        "num2=pd.Series ([4,3,7,2])\n",
        "add=num1+num2\n",
        "print(add)\n",
        "     "
      ],
      "metadata": {
        "colab": {
          "base_uri": "https://localhost:8080/"
        },
        "id": "Q18ZhNlmTdUo",
        "outputId": "6ad4eb69-bbb7-4caf-f3c2-4c96850ef56a"
      },
      "execution_count": null,
      "outputs": [
        {
          "output_type": "stream",
          "name": "stdout",
          "text": [
            "0     7\n",
            "1     7\n",
            "2    12\n",
            "3     8\n",
            "dtype: int64\n"
          ]
        }
      ]
    },
    {
      "cell_type": "code",
      "source": [
        "#pragram to display dataframes from dictionary data\n",
        "import pandas as pd\n",
        "data={'Names':['Moin','Hasir','wasim','kaif'],\n",
        "                   'Address':['alephata','pune','Mumbai','Nashik']}\n",
        "labels=['A','B','C','D']\n",
        "\n",
        "info=pd.DataFrame(data, index=labels)\n",
        "print(info)\n",
        "\n"
      ],
      "metadata": {
        "colab": {
          "base_uri": "https://localhost:8080/"
        },
        "id": "6w_e-cNHTwlU",
        "outputId": "b5ec9eda-dd86-49cc-88a6-e0fbe9f02aa0"
      },
      "execution_count": null,
      "outputs": [
        {
          "output_type": "stream",
          "name": "stdout",
          "text": [
            "   Names   Address\n",
            "A   Moin  alephata\n",
            "B  Hasir      pune\n",
            "C  wasim    Mumbai\n",
            "D   kaif    Nashik\n"
          ]
        }
      ]
    }
  ]
}